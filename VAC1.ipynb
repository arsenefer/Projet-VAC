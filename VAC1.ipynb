{
 "cells": [
  {
   "cell_type": "markdown",
   "metadata": {},
   "source": [
    "# Projet Math: simulation de variable aléatoire"
   ]
  },
  {
   "cell_type": "markdown",
   "metadata": {},
   "source": [
    "### Question théorique\n",
    "1) D'après la loi faible des grands nombres, en appelant $L_i$ la variable donnant le $i^{ème}$ tirage du calcule de la longueur L sachant $Z(x_{j_i})=z(x_{j_i})$ (variables mutuellements indépendantes par construction). On obtient : $$L^★ ≈ \\frac{1}{K} \\sum _{k=1} ^ {K} l_{k} $$"
   ]
  },
  {
   "cell_type": "markdown",
   "metadata": {},
   "source": [
    "### Implémentation"
   ]
  },
  {
   "cell_type": "code",
   "execution_count": 1,
   "metadata": {},
   "outputs": [],
   "source": [
    "import numpy as np\n",
    "import math\n",
    "import matplotlib.pyplot as plt"
   ]
  },
  {
   "cell_type": "code",
   "execution_count": 3,
   "metadata": {},
   "outputs": [],
   "source": [
    "#Discretisation\n",
    "A = 0\n",
    "B = 500\n",
    "N = 101\n",
    "Delta = (B-A)/(N-1)\n",
    "discretisation_index = np.arange(N)\n",
    "dicretisation = Delta * discretisation_index\n",
    "\n",
    "#Parametres du modele\n",
    "mu = -5\n",
    "a=50\n",
    "sigma2 = 12\n",
    "\n",
    "#données\n",
    "observation_index = np.array([0,20,40,60,80,100])\n",
    "profondeur = np.array([0,-4,-12.8,-1,-6.5,0])\n",
    "#Indices des composantes correspondant aux observations et aux composantes non observées\n",
    "unknown_index = list(set(discretisation_index)- set(observation_index))"
   ]
  },
  {
   "cell_type": "markdown",
   "metadata": {},
   "source": [
    "##### 1)"
   ]
  },
  {
   "cell_type": "code",
   "execution_count": 9,
   "metadata": {},
   "outputs": [],
   "source": [
    "def fonc_C = lambda d: sigma2 * np.exp(-abs(d)/a)"
   ]
  },
  {
   "cell_type": "code",
   "execution_count": 15,
   "metadata": {},
   "outputs": [
    {
     "data": {
      "text/plain": [
       "array([[12.        , 11.52947327],\n",
       "       [11.52947327, 12.        ]])"
      ]
     },
     "execution_count": 15,
     "metadata": {},
     "output_type": "execute_result"
    }
   ],
   "source": [
    "fonc_C(np.array([[0,2],[2,0]]))"
   ]
  },
  {
   "cell_type": "markdown",
   "metadata": {},
   "source": [
    "#### 2)"
   ]
  },
  {
   "cell_type": "code",
   "execution_count": 21,
   "metadata": {},
   "outputs": [
    {
     "data": {
      "text/plain": [
       "array([[   0.,    5.,   10., ...,  490.,  495.,  500.],\n",
       "       [  -5.,    0.,    5., ...,  485.,  490.,  495.],\n",
       "       [ -10.,   -5.,    0., ...,  480.,  485.,  490.],\n",
       "       ...,\n",
       "       [-490., -485., -480., ...,    0.,    5.,   10.],\n",
       "       [-495., -490., -485., ...,   -5.,    0.,    5.],\n",
       "       [-500., -495., -490., ...,  -10.,   -5.,    0.]])"
      ]
     },
     "execution_count": 21,
     "metadata": {},
     "output_type": "execute_result"
    }
   ],
   "source": [
    "distance = lambda x,y: Delta * (x-y) #on se fiche du signe car C prends la velur absolue\n",
    "Matrice_distance = np.array([[ distance(i,j) for i in range(N)] for j in range(N)])\n",
    "Matrice_distance"
   ]
  },
  {
   "cell_type": "markdown",
   "metadata": {},
   "source": [
    "#### 3)"
   ]
  },
  {
   "cell_type": "code",
   "execution_count": 22,
   "metadata": {},
   "outputs": [
    {
     "data": {
      "text/plain": [
       "array([[1.20000000e+01, 1.08580490e+01, 9.82476904e+00, ...,\n",
       "        6.65419193e-04, 6.02096185e-04, 5.44799157e-04],\n",
       "       [1.08580490e+01, 1.20000000e+01, 1.08580490e+01, ...,\n",
       "        7.35401941e-04, 6.65419193e-04, 6.02096185e-04],\n",
       "       [9.82476904e+00, 1.08580490e+01, 1.20000000e+01, ...,\n",
       "        8.12744838e-04, 7.35401941e-04, 6.65419193e-04],\n",
       "       ...,\n",
       "       [6.65419193e-04, 7.35401941e-04, 8.12744838e-04, ...,\n",
       "        1.20000000e+01, 1.08580490e+01, 9.82476904e+00],\n",
       "       [6.02096185e-04, 6.65419193e-04, 7.35401941e-04, ...,\n",
       "        1.08580490e+01, 1.20000000e+01, 1.08580490e+01],\n",
       "       [5.44799157e-04, 6.02096185e-04, 6.65419193e-04, ...,\n",
       "        9.82476904e+00, 1.08580490e+01, 1.20000000e+01]])"
      ]
     },
     "execution_count": 22,
     "metadata": {},
     "output_type": "execute_result"
    }
   ],
   "source": [
    "Cov = fonc_C(Matrice_distance)\n",
    "Cov"
   ]
  },
  {
   "cell_type": "markdown",
   "metadata": {},
   "source": [
    "#### 4)"
   ]
  },
  {
   "cell_type": "code",
   "execution_count": 44,
   "metadata": {},
   "outputs": [],
   "source": [
    "Cov_obsobs = np.array([[Cov[i,j] for i in observation_index] for j in observation_index])\n",
    "Cov_incinc = np.array([[Cov[i,j] for i in unknown_index] for j in unknown_index])\n",
    "Cov_obsinc = np.array([[Cov[i,j] for i in observation_index] for j in unknown_index]) # a la transposé près"
   ]
  },
  {
   "cell_type": "markdown",
   "metadata": {},
   "source": [
    "#### 5)"
   ]
  },
  {
   "cell_type": "markdown",
   "metadata": {},
   "source": [
    "D'après la question 3 des questions théoriques on à en posant X le vecteur des composantes non observées et Y celle des observées :  $E(X|Y = y) = \\psi(y) = \n",
    "E(X) + C_{X|Y}C_Y^{-1}(y-E(Y))$"
   ]
  },
  {
   "cell_type": "code",
   "execution_count": 66,
   "metadata": {},
   "outputs": [],
   "source": [
    "Esp_inc = np.array([-5 for i in unknown_index])\n",
    "\n",
    "Esp_cond = Esp_inc + Cov_obsinc.dot(np.linalg.inv(Cov_obsobs)).dot(profondeur - np.array([-5 for i in observation_index]))"
   ]
  },
  {
   "cell_type": "code",
   "execution_count": 81,
   "metadata": {
    "scrolled": true
   },
   "outputs": [
    {
     "data": {
      "image/png": "[encoded data removed]",
      "text/plain": [
       "<Figure size 432x288 with 1 Axes>"
      ]
     },
     "metadata": {
      "needs_background": "light"
     },
     "output_type": "display_data"
    }
   ],
   "source": [
    "plt.plot(X,Esp_cond)\n",
    "plt.plot(observation_index*Delta,profondeur, linestyle = '',marker = '+', color = 'red')\n",
    "plt.xlabel('position')\n",
    "plt.ylabel('Espérance')\n",
    "\n",
    "plt.show()"
   ]
  },
  {
   "cell_type": "markdown",
   "metadata": {},
   "source": [
    "#### 6)"
   ]
  },
  {
   "cell_type": "markdown",
   "metadata": {},
   "source": [
    "Toujour d'après la question 3 : $CS_X = C_X − C_{X,Y} C_Y^{−1} C_{Y,X}$ avec CS_X la matrice de covariance conditionnelle."
   ]
  },
  {
   "cell_type": "code",
   "execution_count": 68,
   "metadata": {},
   "outputs": [],
   "source": [
    "Cov_cond = Cov_incinc - Cov_obsinc.dot(np.linalg.inv(Cov_obsobs)).dot(np.transpose(Cov_obsinc))"
   ]
  },
  {
   "cell_type": "code",
   "execution_count": 70,
   "metadata": {},
   "outputs": [
    {
     "data": {
      "text/plain": [
       "array([[ 2.16624554e+00,  1.95016959e+00,  1.75361159e+00, ...,\n",
       "         6.50521303e-19,  1.51788304e-18,  5.42101086e-19],\n",
       "       [ 1.95016959e+00,  3.91985713e+00,  3.52477392e+00, ...,\n",
       "         2.16840434e-19,  1.19262239e-18,  1.40946282e-18],\n",
       "       [ 1.75361159e+00,  3.52477392e+00,  5.33121337e+00, ...,\n",
       "        -8.67361738e-19, -1.08420217e-19,  2.16840434e-19],\n",
       "       ...,\n",
       "       [ 1.08420217e-19, -2.16840434e-19, -1.08420217e-18, ...,\n",
       "         5.33121337e+00,  3.52477392e+00,  1.75361159e+00],\n",
       "       [ 7.58941521e-19,  4.33680869e-19, -4.33680869e-19, ...,\n",
       "         3.52477392e+00,  3.91985713e+00,  1.95016959e+00],\n",
       "       [ 0.00000000e+00,  9.75781955e-19,  1.08420217e-19, ...,\n",
       "         1.75361159e+00,  1.95016959e+00,  2.16624554e+00]])"
      ]
     },
     "execution_count": 70,
     "metadata": {},
     "output_type": "execute_result"
    }
   ],
   "source": [
    "Cov_cond"
   ]
  },
  {
   "cell_type": "code",
   "execution_count": 77,
   "metadata": {},
   "outputs": [
    {
     "data": {
      "image/png": "[encoded data removed]",
      "text/plain": [
       "<Figure size 432x288 with 1 Axes>"
      ]
     },
     "metadata": {
      "needs_background": "light"
     },
     "output_type": "display_data"
    }
   ],
   "source": [
    "X = [Delta*i for i in unknown_index]\n",
    "Y = [Cov_cond[i,i] for i,a in enumerate(unknown_index)]\n",
    "plt.plot(X,Y)\n",
    "plt.xlabel('position')\n",
    "plt.ylabel('variance')\n",
    "\n",
    "plt.show()"
   ]
  },
  {
   "cell_type": "code",
   "execution_count": null,
   "metadata": {},
   "outputs": [],
   "source": []
  },
  {
   "cell_type": "markdown",
   "metadata": {},
   "source": [
    "#### 8)"
   ]
  },
  {
   "cell_type": "code",
   "execution_count": 82,
   "metadata": {},
   "outputs": [],
   "source": [
    "def longueur(Z):\n",
    "    L = 0\n",
    "    for i in range(len(Z)-1):\n",
    "        L = L + np.sqrt(Delta**2 + (Z[i]-Z[i+1])**2)"
   ]
  }
 ],
 "metadata": {
  "kernelspec": {
   "display_name": "Python 3",
   "language": "python",
   "name": "python3"
  },
  "language_info": {
   "codemirror_mode": {
    "name": "ipython",
    "version": 3
   },
   "file_extension": ".py",
   "mimetype": "text/x-python",
   "name": "python",
   "nbconvert_exporter": "python",
   "pygments_lexer": "ipython3",
   "version": "3.7.3"
  }
 },
 "nbformat": 4,
 "nbformat_minor": 2
}
