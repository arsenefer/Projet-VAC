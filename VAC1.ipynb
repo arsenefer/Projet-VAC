{
 "cells": [
  {
   "cell_type": "markdown",
   "metadata": {},
   "source": [
    "# Projet Math: simulation de variable aléatoire"
   ]
  },
  {
   "cell_type": "markdown",
   "metadata": {},
   "source": [
    "### Question théorique"
   ]
  },
  {
   "cell_type": "markdown",
   "metadata": {},
   "source": [
    "#### 1)"
   ]
  },
  {
   "cell_type": "markdown",
   "metadata": {},
   "source": [
    "D'après le théorème de la limite centrale, en appelant $L_i$ la variable donnant le $i^{ème}$ tirage du calcule de la longueur L sachant $Z(x_{j_i})=z(x_{j_i})$ (variables mutuellements indépendantes par construction). On obtient : $$L^★ ≈ \\frac{1}{K} \\sum _{k=1} ^ {K} l_{k} $$"
   ]
  },
  {
   "cell_type": "markdown",
   "metadata": {},
   "source": [
    "#### 2)"
   ]
  },
  {
   "cell_type": "markdown",
   "metadata": {},
   "source": [
    "Bien que contrairement au cours on ne puisse pas extraire de blocs de la matrice de covariance (les valeurs connues ne sont pas ordonnées), on peut quand même faire un raisonnement parfaitement similaire.\n",
    "On a donc $$ f_{Y|Z=z} = \\frac {1}{(2 \\pi)^{k/2}\\sqrt{det(CS_Y)}}exp\\left(-\\frac12(y-\\psi(z))^tCS_Y(y-\\psi(z))  \\right) $$\n",
    "avec $CS_Y = C_Y - C_{Y,Z} C_Z^{-1} C_{Z,Y}$\n",
    "et $ \\psi(z) = E(Y) + C_{Y|Z}C_Z^{-1}(z-E(Z))$"
   ]
  },
  {
   "cell_type": "markdown",
   "metadata": {},
   "source": [
    "#### 3)"
   ]
  },
  {
   "cell_type": "markdown",
   "metadata": {},
   "source": [
    "Par conposition linéaire de vecteurs gaussien, Z est un vecteur gaussien.\n",
    "$$\\mathbb E(Z) = m + R E(Z) = m$$\n",
    "$$\\mathbb V(Z) = E((RZ)^2) = E(RZ(RZ)^t) = RR^t $$"
   ]
  },
  {
   "cell_type": "markdown",
   "metadata": {},
   "source": [
    "#### 4)"
   ]
  },
  {
   "cell_type": "markdown",
   "metadata": {},
   "source": [
    "Il est aisé de simuler une variable aléatoire réelle qui suit une loie normale centrée et reduite.\n",
    "On peut Donc facilement simuler un vecteur $\\textbf{Y}$ de k variables indépendantes et identriquements distribuées selon une loi normale centrée et réduite.\n",
    "\n",
    "On a de plus $C$ la matrice de covariance qui est symétrique définie positive par construction. Elle est dnoc factorisable au sens de Choleski :  $\\exists L$ triangulaire inférieure telle que $C = LL^t$. En posant $Z = m + LY $ on a Z$\\hookrightarrow$ $\\mathcal N(m,C)$. Soit exactement la même distribution que le vecteur aléatoire que l'on veut simuler."
   ]
  },
  {
   "cell_type": "code",
   "execution_count": 47,
   "metadata": {},
   "outputs": [
    {
     "data": {
      "text/plain": [
       "array([-13.2040649 , -11.19194217, -12.21054282, -13.08915329,\n",
       "       -12.91823379, -13.29857074, -11.86432288, -12.473266  ,\n",
       "       -12.7402123 , -12.59991497])"
      ]
     },
     "execution_count": 47,
     "metadata": {},
     "output_type": "execute_result"
    }
   ],
   "source": [
    "k=10 #dimension de notre vecteur\n",
    "\n",
    "#caractéristique de la distribution de notre vecteur.\n",
    "m=np.array([-12 for i in range(k)])\n",
    "C = np.identity(k)\n",
    "\n",
    "L = np.linalg.cholesky(C) #on pouura à la rigueur faire un algorithme qui créé la matrice par récurrence. \n",
    "\n",
    "Y = np.random.randn(k)  #génère un vecteur aléatoire à composante i.i.d selon une loi normale. \n",
    "\n",
    "#on peut aussi faire : (methode de Box-Muller)\n",
    "U = np.random.rand()\n",
    "V = np.random.rand()\n",
    "Y_artisanal = np.sqrt(-2*np.log(U)) * np.cos(2*np.pi*V)\n",
    "\n",
    "\n",
    "\n",
    "Z = m + L.dot(Y)        #On obtient un vecteur à la même distribution que le vecteur à simuler\n",
    "Z"
   ]
  },
  {
   "cell_type": "markdown",
   "metadata": {},
   "source": [
    "### Implémentation"
   ]
  },
  {
   "cell_type": "code",
   "execution_count": 6,
   "metadata": {},
   "outputs": [],
   "source": [
    "import numpy as np\n",
    "import math\n",
    "import matplotlib.pyplot as plt"
   ]
  },
  {
   "cell_type": "code",
   "execution_count": 7,
   "metadata": {},
   "outputs": [],
   "source": [
    "#Discretisation\n",
    "A = 0\n",
    "B = 500\n",
    "N = 101\n",
    "Delta = (B-A)/(N-1)\n",
    "discretisation_index = np.arange(N)\n",
    "dicretisation = Delta * discretisation_index\n",
    "\n",
    "#Parametres du modele\n",
    "mu = -5\n",
    "a=50\n",
    "sigma2 = 12\n",
    "\n",
    "#données\n",
    "observation_index = np.array([0,20,40,60,80,100])\n",
    "profondeur = np.array([0,-4,-12.8,-1,-6.5,0])\n",
    "#Indices des composantes correspondant aux observations et aux composantes non observées\n",
    "unknown_index = list(set(discretisation_index)- set(observation_index))"
   ]
  },
  {
   "cell_type": "markdown",
   "metadata": {},
   "source": [
    "##### 1)"
   ]
  },
  {
   "cell_type": "code",
   "execution_count": 8,
   "metadata": {},
   "outputs": [],
   "source": [
    "fonc_C = lambda d: sigma2 * np.exp(-abs(d)/a) #fonc_C est la fonction C définie dans l'énoncé."
   ]
  },
  {
   "cell_type": "code",
   "execution_count": 9,
   "metadata": {},
   "outputs": [
    {
     "data": {
      "text/plain": [
       "array([[12.        , 11.52947327],\n",
       "       [11.52947327, 12.        ]])"
      ]
     },
     "execution_count": 9,
     "metadata": {},
     "output_type": "execute_result"
    }
   ],
   "source": [
    "fonc_C(np.array([[0,2],[2,0]]))"
   ]
  },
  {
   "cell_type": "markdown",
   "metadata": {},
   "source": [
    "#### 2)"
   ]
  },
  {
   "cell_type": "code",
   "execution_count": 10,
   "metadata": {},
   "outputs": [
    {
     "data": {
      "text/plain": [
       "array([[   0.,    5.,   10., ...,  490.,  495.,  500.],\n",
       "       [  -5.,    0.,    5., ...,  485.,  490.,  495.],\n",
       "       [ -10.,   -5.,    0., ...,  480.,  485.,  490.],\n",
       "       ...,\n",
       "       [-490., -485., -480., ...,    0.,    5.,   10.],\n",
       "       [-495., -490., -485., ...,   -5.,    0.,    5.],\n",
       "       [-500., -495., -490., ...,  -10.,   -5.,    0.]])"
      ]
     },
     "execution_count": 10,
     "metadata": {},
     "output_type": "execute_result"
    }
   ],
   "source": [
    "distance = lambda x,y: Delta * (x-y) #on se fiche du signe car C prends la velur absolue\n",
    "Matrice_distance = np.array([[ distance(i,j) for i in range(N)] for j in range(N)])\n",
    "Matrice_distance"
   ]
  },
  {
   "cell_type": "markdown",
   "metadata": {},
   "source": [
    "#### 3)"
   ]
  },
  {
   "cell_type": "code",
   "execution_count": 11,
   "metadata": {},
   "outputs": [
    {
     "data": {
      "text/plain": [
       "array([[1.20000000e+01, 1.08580490e+01, 9.82476904e+00, ...,\n",
       "        6.65419193e-04, 6.02096185e-04, 5.44799157e-04],\n",
       "       [1.08580490e+01, 1.20000000e+01, 1.08580490e+01, ...,\n",
       "        7.35401941e-04, 6.65419193e-04, 6.02096185e-04],\n",
       "       [9.82476904e+00, 1.08580490e+01, 1.20000000e+01, ...,\n",
       "        8.12744838e-04, 7.35401941e-04, 6.65419193e-04],\n",
       "       ...,\n",
       "       [6.65419193e-04, 7.35401941e-04, 8.12744838e-04, ...,\n",
       "        1.20000000e+01, 1.08580490e+01, 9.82476904e+00],\n",
       "       [6.02096185e-04, 6.65419193e-04, 7.35401941e-04, ...,\n",
       "        1.08580490e+01, 1.20000000e+01, 1.08580490e+01],\n",
       "       [5.44799157e-04, 6.02096185e-04, 6.65419193e-04, ...,\n",
       "        9.82476904e+00, 1.08580490e+01, 1.20000000e+01]])"
      ]
     },
     "execution_count": 11,
     "metadata": {},
     "output_type": "execute_result"
    }
   ],
   "source": [
    "Cov = fonc_C(Matrice_distance)\n",
    "Cov"
   ]
  },
  {
   "cell_type": "markdown",
   "metadata": {},
   "source": [
    "#### 4)"
   ]
  },
  {
   "cell_type": "code",
   "execution_count": 111,
   "metadata": {},
   "outputs": [],
   "source": [
    "Cov_obsobs = np.array([[Cov[i,j] for i in observation_index] for j in observation_index])  #obs pour observé\n",
    "Cov_incinc = np.array([[Cov[i,j] for i in unknown_index] for j in unknown_index])   #inc pour \"inconnu\"\n",
    "Cov_obsinc = np.array([[Cov[i,j] for i in observation_index] for j in unknown_index]) # à la transposé près"
   ]
  },
  {
   "cell_type": "markdown",
   "metadata": {},
   "source": [
    "#### 5)"
   ]
  },
  {
   "cell_type": "markdown",
   "metadata": {},
   "source": [
    "D'après la question 3 des questions théoriques on à en posant X le vecteur des composantes non observées et Y celle des observées :  $E(X|Y = y) = \\psi(y) = \n",
    "E(X) + C_{X|Y}C_Y^{-1}(y-E(Y))$"
   ]
  },
  {
   "cell_type": "code",
   "execution_count": 13,
   "metadata": {},
   "outputs": [],
   "source": [
    "Esp_inc = np.array([-5 for i in unknown_index])\n",
    "\n",
    "Esp_cond = Esp_inc + Cov_obsinc.dot(np.linalg.inv(Cov_obsobs)).dot(profondeur - np.array([-5 for i in observation_index]))"
   ]
  },
  {
   "cell_type": "code",
   "execution_count": 112,
   "metadata": {
    "scrolled": true
   },
   "outputs": [
    {
     "data": {
      "image/png": "[encoded data removed]",
      "text/plain": [
       "<Figure size 432x288 with 1 Axes>"
      ]
     },
     "metadata": {
      "needs_background": "light"
     },
     "output_type": "display_data"
    }
   ],
   "source": [
    "X = [Delta*i for i in unknown_index]\n",
    "\n",
    "plt.plot(X,Esp_cond, linestyle = '',marker ='o')\n",
    "plt.plot(observation_index*Delta,profondeur, linestyle = '',marker = 'o', color = 'red')\n",
    "plt.xlabel('position')\n",
    "plt.ylabel('Espérance')\n",
    "plt.title(\"espérance conditionnelle des profondeurs\")\n",
    "plt.show()"
   ]
  },
  {
   "cell_type": "markdown",
   "metadata": {},
   "source": [
    "#### 6)"
   ]
  },
  {
   "cell_type": "markdown",
   "metadata": {},
   "source": [
    "Toujour d'après la question 3 : $CS_X = C_X - C_{X,Y} C_Y^{-1} C_{Y,X}$ avec $CS_X$ la matrice de covariance conditionnelle."
   ]
  },
  {
   "cell_type": "code",
   "execution_count": 19,
   "metadata": {},
   "outputs": [],
   "source": [
    "Cov_cond = Cov_incinc - Cov_obsinc.dot(np.linalg.inv(Cov_obsobs)).dot(np.transpose(Cov_obsinc)) #inc pour inconnue"
   ]
  },
  {
   "cell_type": "code",
   "execution_count": 20,
   "metadata": {},
   "outputs": [
    {
     "data": {
      "text/plain": [
       "array([[ 2.16624554e+00,  1.95016959e+00,  1.75361159e+00, ...,\n",
       "         6.50521303e-19,  1.51788304e-18,  5.42101086e-19],\n",
       "       [ 1.95016959e+00,  3.91985713e+00,  3.52477392e+00, ...,\n",
       "         2.16840434e-19,  1.19262239e-18,  1.40946282e-18],\n",
       "       [ 1.75361159e+00,  3.52477392e+00,  5.33121337e+00, ...,\n",
       "        -8.67361738e-19, -1.08420217e-19,  2.16840434e-19],\n",
       "       ...,\n",
       "       [ 1.08420217e-19, -2.16840434e-19, -1.08420217e-18, ...,\n",
       "         5.33121337e+00,  3.52477392e+00,  1.75361159e+00],\n",
       "       [ 7.58941521e-19,  4.33680869e-19, -4.33680869e-19, ...,\n",
       "         3.52477392e+00,  3.91985713e+00,  1.95016959e+00],\n",
       "       [ 0.00000000e+00,  9.75781955e-19,  1.08420217e-19, ...,\n",
       "         1.75361159e+00,  1.95016959e+00,  2.16624554e+00]])"
      ]
     },
     "execution_count": 20,
     "metadata": {},
     "output_type": "execute_result"
    }
   ],
   "source": [
    "Cov_cond"
   ]
  },
  {
   "cell_type": "code",
   "execution_count": 113,
   "metadata": {},
   "outputs": [
    {
     "data": {
      "image/png": "[encoded data removed]",
      "text/plain": [
       "<Figure size 432x288 with 1 Axes>"
      ]
     },
     "metadata": {
      "needs_background": "light"
     },
     "output_type": "display_data"
    }
   ],
   "source": [
    "Y = [Cov_cond[i,i] for i,a in enumerate(unknown_index)]\n",
    "plt.plot(X,Y, marker ='o', linestyle='')\n",
    "plt.xlabel('position')\n",
    "plt.ylabel('variance')\n",
    "plt.title('Variance conditionnelle des profondeurs')\n",
    "plt.show()"
   ]
  },
  {
   "cell_type": "markdown",
   "metadata": {},
   "source": [
    "Plus la position est éloignée d'une position ou l'on a éffectué une mesure, plus la variance est grande. Cela traduit que l'estimation de la profondeur en ces position extremes est beaucoup moins précise. C'est cohérent car aux erreurs d'estimations des points précédents s'ajoutent les nouvelles."
   ]
  },
  {
   "cell_type": "markdown",
   "metadata": {},
   "source": [
    "#### 7)"
   ]
  },
  {
   "cell_type": "code",
   "execution_count": 67,
   "metadata": {},
   "outputs": [],
   "source": [
    "def simul():\n",
    "    Y = []\n",
    "    for i in unknown_index:\n",
    "        U = np.random.rand()\n",
    "        V = np.random.rand()\n",
    "        Norm = np.sqrt(-2*np.log(U)) * np.cos(2*np.pi*V)\n",
    "        Y.append(Norm)\n",
    "    Y = np.array(Y)\n",
    "    m = Esp_cond\n",
    "    C = Cov_cond\n",
    "    \n",
    "    L = np.linalg.cholesky(C)\n",
    "    \n",
    "    Z = m + L.dot(np.transpose(Y))\n",
    "    return Z"
   ]
  },
  {
   "cell_type": "code",
   "execution_count": 114,
   "metadata": {},
   "outputs": [
    {
     "data": {
      "image/png": "[encoded data removed]",
      "text/plain": [
       "<Figure size 432x288 with 1 Axes>"
      ]
     },
     "metadata": {
      "needs_background": "light"
     },
     "output_type": "display_data"
    }
   ],
   "source": [
    "Tot = simul()\n",
    "\n",
    "n_o = 1000 #on peut faire varier le curseur n_o du nombre d'itération.\n",
    "\n",
    "for i in range(n_o):\n",
    "    Tot = Tot + simul()\n",
    "Tot = Tot/(n_o +1)\n",
    "plt.plot(X, Tot, label ='simulé')\n",
    "plt.plot(X,Esp_cond, linestyle = '',marker ='o', label = 'espérance')\n",
    "plt.legend()\n",
    "plt.title('Comparaison des deux méthodes')\n",
    "plt.show()"
   ]
  },
  {
   "cell_type": "markdown",
   "metadata": {},
   "source": [
    "On voit qu'avec un très grand nombre d'itération, les deux courbes se superposent. C'est le théorème central de la limite. Notre simulation fonctionne bel et bien."
   ]
  },
  {
   "cell_type": "markdown",
   "metadata": {},
   "source": [
    "#### 8)"
   ]
  },
  {
   "cell_type": "code",
   "execution_count": 78,
   "metadata": {},
   "outputs": [],
   "source": [
    "def longueur(Z,Delta):\n",
    "    L = 0\n",
    "    for i in range(len(Z)-1):\n",
    "        L = L + np.sqrt(Delta**2 + (Z[i]-Z[i+1])**2)\n",
    "    return L"
   ]
  },
  {
   "cell_type": "markdown",
   "metadata": {},
   "source": [
    "#### 9)"
   ]
  },
  {
   "cell_type": "markdown",
   "metadata": {},
   "source": [
    "$\\textbf {Pour un grand nombre de simulation: (ici on a omit les points mesurés.)}$"
   ]
  },
  {
   "cell_type": "code",
   "execution_count": 88,
   "metadata": {},
   "outputs": [
    {
     "name": "stdout",
     "output_type": "stream",
     "text": [
      "Longueur éstimée :491.7501274787787m.\n"
     ]
    }
   ],
   "source": [
    "L_moy = 0\n",
    "for i in range(100):\n",
    "    L = longueur(simul(),Delta)\n",
    "    L_moy  = L_moy + L\n",
    "L_moy = L_moy/100\n",
    "print(f\"Longueur éstimée :{L_moy}m.\")"
   ]
  },
  {
   "cell_type": "markdown",
   "metadata": {},
   "source": [
    "$\\textbf {La longueur de l'espérance conditionnelle :}$ "
   ]
  },
  {
   "cell_type": "code",
   "execution_count": 85,
   "metadata": {},
   "outputs": [
    {
     "name": "stdout",
     "output_type": "stream",
     "text": [
      "longueur de l’espérance conditionnelle : 471.390923999467m.\n"
     ]
    }
   ],
   "source": [
    "L_moy = longueur(Esp_cond,Delta)\n",
    "print(f\"longueur de l’espérance conditionnelle : {L_moy}m.\")"
   ]
  },
  {
   "cell_type": "markdown",
   "metadata": {},
   "source": [
    "On observe une différence entre les valeurs. Cela vient du fait que bien que l'espérance est une fonction linéaire, on a pas forcément $E(\\sqrt X) = \\sqrt{E(X)}$:\\\n",
    "On va essayer de régler le problème des points oubliés."
   ]
  },
  {
   "cell_type": "code",
   "execution_count": 89,
   "metadata": {},
   "outputs": [],
   "source": [
    "def complet(Vecteur):\n",
    "    res = N*[0]\n",
    "    for i,a in enumerate(observation_index):\n",
    "        res[a] = profondeur[i]\n",
    "    for i,a in enumerate(unknown_index):\n",
    "        res[a] = Vecteur[i]\n",
    "    return np.array(res)"
   ]
  },
  {
   "cell_type": "code",
   "execution_count": 90,
   "metadata": {},
   "outputs": [
    {
     "name": "stdout",
     "output_type": "stream",
     "text": [
      "Longueur éstimée :522.3602247518435m.\n"
     ]
    }
   ],
   "source": [
    "L_moy = 0\n",
    "for i in range(100):\n",
    "    L = longueur(complet(simul()),Delta)\n",
    "    L_moy  = L_moy + L\n",
    "L_moy = L_moy/100\n",
    "print(f\"Longueur éstimée :{L_moy}m.\")"
   ]
  },
  {
   "cell_type": "code",
   "execution_count": 91,
   "metadata": {},
   "outputs": [
    {
     "name": "stdout",
     "output_type": "stream",
     "text": [
      "longueur de l’espérance conditionnelle : 501.6468416918411m.\n"
     ]
    }
   ],
   "source": [
    "L_moy = longueur(complet(Esp_cond),Delta)\n",
    "print(f\"longueur de l’espérance conditionnelle : {L_moy}m.\")"
   ]
  },
  {
   "cell_type": "markdown",
   "metadata": {},
   "source": [
    "On observe toujours une différence."
   ]
  },
  {
   "cell_type": "markdown",
   "metadata": {},
   "source": [
    "#### 10)"
   ]
  },
  {
   "cell_type": "code",
   "execution_count": 115,
   "metadata": {},
   "outputs": [
    {
     "data": {
      "text/plain": [
       "[]"
      ]
     },
     "execution_count": 115,
     "metadata": {},
     "output_type": "execute_result"
    },
    {
     "data": {
      "image/png": "[encoded data removed]",
      "text/plain": [
       "<Figure size 432x288 with 1 Axes>"
      ]
     },
     "metadata": {
      "needs_background": "light"
     },
     "output_type": "display_data"
    }
   ],
   "source": [
    "M = []\n",
    "n_calcul = 300\n",
    "for i in range(1,n_calcul):\n",
    "    M_n = 0\n",
    "    for j in range(i):\n",
    "        L = longueur(complet(simul()),Delta)\n",
    "        M_n  = M_n + L\n",
    "    M_n = M_n/i\n",
    "    M.append(M_n)\n",
    "    \n",
    "plt.scatter([i+1 for i in range(n_calcul-1)],M)\n",
    "plt.title('simulation pour différents echantillons (réinitialisés de nombreuses fois)')\n",
    "plt.plot()"
   ]
  },
  {
   "cell_type": "markdown",
   "metadata": {},
   "source": [
    "On converge très lentement vers une asymptote. Ici cependant on recalcule a chaque itérations de la boucle  principale l'ensemble des termes qui vont participer à la moyenne $M_n$"
   ]
  },
  {
   "cell_type": "markdown",
   "metadata": {},
   "source": [
    "On peut faire autrement:"
   ]
  },
  {
   "cell_type": "code",
   "execution_count": 102,
   "metadata": {},
   "outputs": [],
   "source": [
    "Liste_100simulation = [complet(simul()) for i in range(100)]"
   ]
  },
  {
   "cell_type": "code",
   "execution_count": 116,
   "metadata": {},
   "outputs": [
    {
     "data": {
      "text/plain": [
       "[]"
      ]
     },
     "execution_count": 116,
     "metadata": {},
     "output_type": "execute_result"
    },
    {
     "data": {
      "image/png": "[encoded data removed]",
      "text/plain": [
       "<Figure size 432x288 with 1 Axes>"
      ]
     },
     "metadata": {
      "needs_background": "light"
     },
     "output_type": "display_data"
    }
   ],
   "source": [
    "M=[]\n",
    "Longueur_tot = 0\n",
    "\n",
    "for i,a in enumerate(Liste_100simulation):\n",
    "    Longueur_tot += longueur(a,Delta)\n",
    "    M.append(Longueur_tot/(i+1))\n",
    "plt.scatter([i+1 for i in range(len(M))],M)\n",
    "plt.title(\"simulation pour différents echantillons (simulé à l'avance)\")\n",
    "\n",
    "plt.plot()"
   ]
  },
  {
   "cell_type": "markdown",
   "metadata": {},
   "source": [
    "#### 13)"
   ]
  },
  {
   "cell_type": "markdown",
   "metadata": {},
   "source": [
    "On va essayer d'évaluer la probabilité que le cable soit plus long que 525m. Pour cela on va simuler beaucoup de longueur et on va compter combien de fois on dépasse 525m."
   ]
  },
  {
   "cell_type": "code",
   "execution_count": 110,
   "metadata": {},
   "outputs": [
    {
     "name": "stdout",
     "output_type": "stream",
     "text": [
      "La probabilité que le cable mesure plus de 525m vaut : 0.1865.\n"
     ]
    }
   ],
   "source": [
    "Oui = 0\n",
    "for i in range(10000):\n",
    "    L = longueur(complet(simul()),Delta)\n",
    "    if L > 525:\n",
    "        Oui += 1\n",
    "print(f\"La probabilité que le cable mesure plus de 525m vaut : {Oui/10000}.\")"
   ]
  }
 ],
 "metadata": {
  "kernelspec": {
   "display_name": "Python 3",
   "language": "python",
   "name": "python3"
  },
  "language_info": {
   "codemirror_mode": {
    "name": "ipython",
    "version": 3
   },
   "file_extension": ".py",
   "mimetype": "text/x-python",
   "name": "python",
   "nbconvert_exporter": "python",
   "pygments_lexer": "ipython3",
   "version": "3.7.3"
  }
 },
 "nbformat": 4,
 "nbformat_minor": 2
}
